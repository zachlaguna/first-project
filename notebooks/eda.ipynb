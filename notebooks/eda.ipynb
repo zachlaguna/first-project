{
 "cells": [
  {
   "cell_type": "markdown",
   "metadata": {},
   "source": [
    "# Setup"
   ]
  },
  {
   "cell_type": "markdown",
   "metadata": {},
   "source": [
    "The goal here is to:\n",
    "1. Setup your Anaconda virtual environment\n",
    "2. Setup your project structure using cookiecutter\n",
    "3. Run the code in this notebook"
   ]
  },
  {
   "cell_type": "markdown",
   "metadata": {},
   "source": [
    "Once you have Anaconda installed, you should be able to use the following [command](https://conda.io/projects/conda/en/latest/commands.html) ([cheat sheet](https://docs.conda.io/projects/conda/en/4.6.0/_downloads/52a95608c49671267e40c689e0bc00ca/conda-cheatsheet.pdf)) to create your virtual environment (feel free to use your own environment name, i.e., change the value of \"first-project\"):\n",
    "```sh\n",
    "$ conda create --name first-project python=3.7 -y\n",
    "```"
   ]
  },
  {
   "cell_type": "markdown",
   "metadata": {},
   "source": [
    "Install the jupyter package so you can launch your own notebook (or run this one):\n",
    "```sh\n",
    "$ conda install jupyter\n",
    "```\n",
    "Note that Jupyter Notebook is included in the Anaconda 4.4+ distributions, so this may not be required."
   ]
  },
  {
   "cell_type": "markdown",
   "metadata": {},
   "source": [
    "Install the cookiecutter package that will enable you to create a data science organization for your project:\n",
    "```sh\n",
    "$ conda install -c conda-forge cookiecutter\n",
    "```"
   ]
  },
  {
   "cell_type": "markdown",
   "metadata": {},
   "source": [
    "Navigate to the directory in which you want your project to reside in and execute the following command:\n",
    "```sh\n",
    "$ cookiecutter https://github.com/drivendata/cookiecutter-data-science\n",
    "```\n",
    "Look at the README.md file in this project to get a sense of the project structure."
   ]
  },
  {
   "cell_type": "markdown",
   "metadata": {},
   "source": [
    "If you just want to download the notebook and ensure you have the requirements to run it, download requirements.txt and execute the following to install the packages:\n",
    "```sh\n",
    "$ conda install --file requirements.txt\n",
    "```"
   ]
  },
  {
   "cell_type": "markdown",
   "metadata": {},
   "source": [
    "# Exploratory Data Analysis"
   ]
  },
  {
   "cell_type": "markdown",
   "metadata": {},
   "source": [
    "Import packages"
   ]
  },
  {
   "cell_type": "code",
   "execution_count": 1,
   "metadata": {},
   "outputs": [],
   "source": [
    "import pandas as pd\n",
    "import numpy as np\n",
    "import seaborn as sns\n",
    "import matplotlib.pyplot as plt"
   ]
  },
  {
   "cell_type": "markdown",
   "metadata": {},
   "source": [
    "Import the dataset (mock dataset using [Mockaroo](https://mockaroo.com/))."
   ]
  },
  {
   "cell_type": "code",
   "execution_count": 2,
   "metadata": {},
   "outputs": [],
   "source": [
    "df = pd.read_csv('../data/raw/MOCK_DATA.csv')"
   ]
  },
  {
   "cell_type": "markdown",
   "metadata": {},
   "source": [
    "Take a look at the first 10 records."
   ]
  },
  {
   "cell_type": "code",
   "execution_count": 3,
   "metadata": {},
   "outputs": [
    {
     "data": {
      "text/html": [
       "<div>\n",
       "<style scoped>\n",
       "    .dataframe tbody tr th:only-of-type {\n",
       "        vertical-align: middle;\n",
       "    }\n",
       "\n",
       "    .dataframe tbody tr th {\n",
       "        vertical-align: top;\n",
       "    }\n",
       "\n",
       "    .dataframe thead th {\n",
       "        text-align: right;\n",
       "    }\n",
       "</style>\n",
       "<table border=\"1\" class=\"dataframe\">\n",
       "  <thead>\n",
       "    <tr style=\"text-align: right;\">\n",
       "      <th></th>\n",
       "      <th>id</th>\n",
       "      <th>employee_id</th>\n",
       "      <th>first_name</th>\n",
       "      <th>last_name</th>\n",
       "      <th>date</th>\n",
       "      <th>401k_amount</th>\n",
       "    </tr>\n",
       "  </thead>\n",
       "  <tbody>\n",
       "    <tr>\n",
       "      <th>0</th>\n",
       "      <td>1</td>\n",
       "      <td>807-98-3943</td>\n",
       "      <td>Clareta</td>\n",
       "      <td>Calan</td>\n",
       "      <td>2016-02-23</td>\n",
       "      <td>87785</td>\n",
       "    </tr>\n",
       "    <tr>\n",
       "      <th>1</th>\n",
       "      <td>2</td>\n",
       "      <td>681-81-9934</td>\n",
       "      <td>Jocko</td>\n",
       "      <td>Rickwood</td>\n",
       "      <td>2017-06-06</td>\n",
       "      <td>89401</td>\n",
       "    </tr>\n",
       "    <tr>\n",
       "      <th>2</th>\n",
       "      <td>3</td>\n",
       "      <td>458-68-7451</td>\n",
       "      <td>Isador</td>\n",
       "      <td>Mueller</td>\n",
       "      <td>2018-08-10</td>\n",
       "      <td>37494</td>\n",
       "    </tr>\n",
       "    <tr>\n",
       "      <th>3</th>\n",
       "      <td>4</td>\n",
       "      <td>369-89-1954</td>\n",
       "      <td>Karee</td>\n",
       "      <td>Boddy</td>\n",
       "      <td>2019-01-19</td>\n",
       "      <td>97488</td>\n",
       "    </tr>\n",
       "    <tr>\n",
       "      <th>4</th>\n",
       "      <td>5</td>\n",
       "      <td>200-46-4502</td>\n",
       "      <td>Bobette</td>\n",
       "      <td>Sentinella</td>\n",
       "      <td>2016-06-26</td>\n",
       "      <td>70841</td>\n",
       "    </tr>\n",
       "    <tr>\n",
       "      <th>5</th>\n",
       "      <td>6</td>\n",
       "      <td>259-92-6811</td>\n",
       "      <td>Meghann</td>\n",
       "      <td>Bosworth</td>\n",
       "      <td>2017-12-09</td>\n",
       "      <td>9599</td>\n",
       "    </tr>\n",
       "    <tr>\n",
       "      <th>6</th>\n",
       "      <td>7</td>\n",
       "      <td>417-81-0945</td>\n",
       "      <td>Damon</td>\n",
       "      <td>Thames</td>\n",
       "      <td>2016-10-30</td>\n",
       "      <td>88427</td>\n",
       "    </tr>\n",
       "    <tr>\n",
       "      <th>7</th>\n",
       "      <td>8</td>\n",
       "      <td>332-77-1326</td>\n",
       "      <td>Elfrida</td>\n",
       "      <td>Swash</td>\n",
       "      <td>2017-12-20</td>\n",
       "      <td>14628</td>\n",
       "    </tr>\n",
       "    <tr>\n",
       "      <th>8</th>\n",
       "      <td>9</td>\n",
       "      <td>846-52-2788</td>\n",
       "      <td>Grady</td>\n",
       "      <td>Nordass</td>\n",
       "      <td>2018-03-15</td>\n",
       "      <td>10026</td>\n",
       "    </tr>\n",
       "    <tr>\n",
       "      <th>9</th>\n",
       "      <td>10</td>\n",
       "      <td>579-35-9131</td>\n",
       "      <td>Lishe</td>\n",
       "      <td>Chavey</td>\n",
       "      <td>2018-02-28</td>\n",
       "      <td>91277</td>\n",
       "    </tr>\n",
       "  </tbody>\n",
       "</table>\n",
       "</div>"
      ],
      "text/plain": [
       "   id  employee_id first_name   last_name        date  401k_amount\n",
       "0   1  807-98-3943    Clareta       Calan  2016-02-23        87785\n",
       "1   2  681-81-9934      Jocko    Rickwood  2017-06-06        89401\n",
       "2   3  458-68-7451     Isador     Mueller  2018-08-10        37494\n",
       "3   4  369-89-1954      Karee       Boddy  2019-01-19        97488\n",
       "4   5  200-46-4502    Bobette  Sentinella  2016-06-26        70841\n",
       "5   6  259-92-6811    Meghann    Bosworth  2017-12-09         9599\n",
       "6   7  417-81-0945      Damon      Thames  2016-10-30        88427\n",
       "7   8  332-77-1326    Elfrida       Swash  2017-12-20        14628\n",
       "8   9  846-52-2788      Grady     Nordass  2018-03-15        10026\n",
       "9  10  579-35-9131      Lishe      Chavey  2018-02-28        91277"
      ]
     },
     "execution_count": 3,
     "metadata": {},
     "output_type": "execute_result"
    }
   ],
   "source": [
    "df.head(10)"
   ]
  },
  {
   "cell_type": "markdown",
   "metadata": {},
   "source": [
    "Create a column 'year' by pulling the first 4 characters of the 'date' field."
   ]
  },
  {
   "cell_type": "code",
   "execution_count": 4,
   "metadata": {},
   "outputs": [],
   "source": [
    "df['year'] = df['date'].str[:4]"
   ]
  },
  {
   "cell_type": "code",
   "execution_count": 5,
   "metadata": {},
   "outputs": [
    {
     "data": {
      "text/html": [
       "<div>\n",
       "<style scoped>\n",
       "    .dataframe tbody tr th:only-of-type {\n",
       "        vertical-align: middle;\n",
       "    }\n",
       "\n",
       "    .dataframe tbody tr th {\n",
       "        vertical-align: top;\n",
       "    }\n",
       "\n",
       "    .dataframe thead th {\n",
       "        text-align: right;\n",
       "    }\n",
       "</style>\n",
       "<table border=\"1\" class=\"dataframe\">\n",
       "  <thead>\n",
       "    <tr style=\"text-align: right;\">\n",
       "      <th></th>\n",
       "      <th>id</th>\n",
       "      <th>employee_id</th>\n",
       "      <th>first_name</th>\n",
       "      <th>last_name</th>\n",
       "      <th>date</th>\n",
       "      <th>401k_amount</th>\n",
       "      <th>year</th>\n",
       "    </tr>\n",
       "  </thead>\n",
       "  <tbody>\n",
       "    <tr>\n",
       "      <th>0</th>\n",
       "      <td>1</td>\n",
       "      <td>807-98-3943</td>\n",
       "      <td>Clareta</td>\n",
       "      <td>Calan</td>\n",
       "      <td>2016-02-23</td>\n",
       "      <td>87785</td>\n",
       "      <td>2016</td>\n",
       "    </tr>\n",
       "    <tr>\n",
       "      <th>1</th>\n",
       "      <td>2</td>\n",
       "      <td>681-81-9934</td>\n",
       "      <td>Jocko</td>\n",
       "      <td>Rickwood</td>\n",
       "      <td>2017-06-06</td>\n",
       "      <td>89401</td>\n",
       "      <td>2017</td>\n",
       "    </tr>\n",
       "    <tr>\n",
       "      <th>2</th>\n",
       "      <td>3</td>\n",
       "      <td>458-68-7451</td>\n",
       "      <td>Isador</td>\n",
       "      <td>Mueller</td>\n",
       "      <td>2018-08-10</td>\n",
       "      <td>37494</td>\n",
       "      <td>2018</td>\n",
       "    </tr>\n",
       "    <tr>\n",
       "      <th>3</th>\n",
       "      <td>4</td>\n",
       "      <td>369-89-1954</td>\n",
       "      <td>Karee</td>\n",
       "      <td>Boddy</td>\n",
       "      <td>2019-01-19</td>\n",
       "      <td>97488</td>\n",
       "      <td>2019</td>\n",
       "    </tr>\n",
       "    <tr>\n",
       "      <th>4</th>\n",
       "      <td>5</td>\n",
       "      <td>200-46-4502</td>\n",
       "      <td>Bobette</td>\n",
       "      <td>Sentinella</td>\n",
       "      <td>2016-06-26</td>\n",
       "      <td>70841</td>\n",
       "      <td>2016</td>\n",
       "    </tr>\n",
       "  </tbody>\n",
       "</table>\n",
       "</div>"
      ],
      "text/plain": [
       "   id  employee_id first_name   last_name        date  401k_amount  year\n",
       "0   1  807-98-3943    Clareta       Calan  2016-02-23        87785  2016\n",
       "1   2  681-81-9934      Jocko    Rickwood  2017-06-06        89401  2017\n",
       "2   3  458-68-7451     Isador     Mueller  2018-08-10        37494  2018\n",
       "3   4  369-89-1954      Karee       Boddy  2019-01-19        97488  2019\n",
       "4   5  200-46-4502    Bobette  Sentinella  2016-06-26        70841  2016"
      ]
     },
     "execution_count": 5,
     "metadata": {},
     "output_type": "execute_result"
    }
   ],
   "source": [
    "df.head()"
   ]
  },
  {
   "cell_type": "markdown",
   "metadata": {},
   "source": [
    "Summarize the numeric values in the dataframe."
   ]
  },
  {
   "cell_type": "code",
   "execution_count": 6,
   "metadata": {},
   "outputs": [
    {
     "data": {
      "text/html": [
       "<div>\n",
       "<style scoped>\n",
       "    .dataframe tbody tr th:only-of-type {\n",
       "        vertical-align: middle;\n",
       "    }\n",
       "\n",
       "    .dataframe tbody tr th {\n",
       "        vertical-align: top;\n",
       "    }\n",
       "\n",
       "    .dataframe thead th {\n",
       "        text-align: right;\n",
       "    }\n",
       "</style>\n",
       "<table border=\"1\" class=\"dataframe\">\n",
       "  <thead>\n",
       "    <tr style=\"text-align: right;\">\n",
       "      <th></th>\n",
       "      <th>id</th>\n",
       "      <th>401k_amount</th>\n",
       "    </tr>\n",
       "  </thead>\n",
       "  <tbody>\n",
       "    <tr>\n",
       "      <th>count</th>\n",
       "      <td>1000.000000</td>\n",
       "      <td>1000.000000</td>\n",
       "    </tr>\n",
       "    <tr>\n",
       "      <th>mean</th>\n",
       "      <td>500.500000</td>\n",
       "      <td>49657.559000</td>\n",
       "    </tr>\n",
       "    <tr>\n",
       "      <th>std</th>\n",
       "      <td>288.819436</td>\n",
       "      <td>29168.729906</td>\n",
       "    </tr>\n",
       "    <tr>\n",
       "      <th>min</th>\n",
       "      <td>1.000000</td>\n",
       "      <td>40.000000</td>\n",
       "    </tr>\n",
       "    <tr>\n",
       "      <th>25%</th>\n",
       "      <td>250.750000</td>\n",
       "      <td>24572.250000</td>\n",
       "    </tr>\n",
       "    <tr>\n",
       "      <th>50%</th>\n",
       "      <td>500.500000</td>\n",
       "      <td>50629.000000</td>\n",
       "    </tr>\n",
       "    <tr>\n",
       "      <th>75%</th>\n",
       "      <td>750.250000</td>\n",
       "      <td>74877.750000</td>\n",
       "    </tr>\n",
       "    <tr>\n",
       "      <th>max</th>\n",
       "      <td>1000.000000</td>\n",
       "      <td>99936.000000</td>\n",
       "    </tr>\n",
       "  </tbody>\n",
       "</table>\n",
       "</div>"
      ],
      "text/plain": [
       "                id   401k_amount\n",
       "count  1000.000000   1000.000000\n",
       "mean    500.500000  49657.559000\n",
       "std     288.819436  29168.729906\n",
       "min       1.000000     40.000000\n",
       "25%     250.750000  24572.250000\n",
       "50%     500.500000  50629.000000\n",
       "75%     750.250000  74877.750000\n",
       "max    1000.000000  99936.000000"
      ]
     },
     "execution_count": 6,
     "metadata": {},
     "output_type": "execute_result"
    }
   ],
   "source": [
    "df.describe()"
   ]
  },
  {
   "cell_type": "markdown",
   "metadata": {},
   "source": [
    "Take a look at the distribution of 401k amounts by month."
   ]
  },
  {
   "cell_type": "code",
   "execution_count": 7,
   "metadata": {},
   "outputs": [],
   "source": [
    "df['month'] = pd.to_datetime(df['date']).dt.strftime('%b')"
   ]
  },
  {
   "cell_type": "code",
   "execution_count": 8,
   "metadata": {},
   "outputs": [
    {
     "data": {
      "text/html": [
       "<div>\n",
       "<style scoped>\n",
       "    .dataframe tbody tr th:only-of-type {\n",
       "        vertical-align: middle;\n",
       "    }\n",
       "\n",
       "    .dataframe tbody tr th {\n",
       "        vertical-align: top;\n",
       "    }\n",
       "\n",
       "    .dataframe thead th {\n",
       "        text-align: right;\n",
       "    }\n",
       "</style>\n",
       "<table border=\"1\" class=\"dataframe\">\n",
       "  <thead>\n",
       "    <tr style=\"text-align: right;\">\n",
       "      <th></th>\n",
       "      <th>id</th>\n",
       "      <th>employee_id</th>\n",
       "      <th>first_name</th>\n",
       "      <th>last_name</th>\n",
       "      <th>date</th>\n",
       "      <th>401k_amount</th>\n",
       "      <th>year</th>\n",
       "      <th>month</th>\n",
       "    </tr>\n",
       "  </thead>\n",
       "  <tbody>\n",
       "    <tr>\n",
       "      <th>0</th>\n",
       "      <td>1</td>\n",
       "      <td>807-98-3943</td>\n",
       "      <td>Clareta</td>\n",
       "      <td>Calan</td>\n",
       "      <td>2016-02-23</td>\n",
       "      <td>87785</td>\n",
       "      <td>2016</td>\n",
       "      <td>Feb</td>\n",
       "    </tr>\n",
       "    <tr>\n",
       "      <th>1</th>\n",
       "      <td>2</td>\n",
       "      <td>681-81-9934</td>\n",
       "      <td>Jocko</td>\n",
       "      <td>Rickwood</td>\n",
       "      <td>2017-06-06</td>\n",
       "      <td>89401</td>\n",
       "      <td>2017</td>\n",
       "      <td>Jun</td>\n",
       "    </tr>\n",
       "    <tr>\n",
       "      <th>2</th>\n",
       "      <td>3</td>\n",
       "      <td>458-68-7451</td>\n",
       "      <td>Isador</td>\n",
       "      <td>Mueller</td>\n",
       "      <td>2018-08-10</td>\n",
       "      <td>37494</td>\n",
       "      <td>2018</td>\n",
       "      <td>Aug</td>\n",
       "    </tr>\n",
       "    <tr>\n",
       "      <th>3</th>\n",
       "      <td>4</td>\n",
       "      <td>369-89-1954</td>\n",
       "      <td>Karee</td>\n",
       "      <td>Boddy</td>\n",
       "      <td>2019-01-19</td>\n",
       "      <td>97488</td>\n",
       "      <td>2019</td>\n",
       "      <td>Jan</td>\n",
       "    </tr>\n",
       "    <tr>\n",
       "      <th>4</th>\n",
       "      <td>5</td>\n",
       "      <td>200-46-4502</td>\n",
       "      <td>Bobette</td>\n",
       "      <td>Sentinella</td>\n",
       "      <td>2016-06-26</td>\n",
       "      <td>70841</td>\n",
       "      <td>2016</td>\n",
       "      <td>Jun</td>\n",
       "    </tr>\n",
       "  </tbody>\n",
       "</table>\n",
       "</div>"
      ],
      "text/plain": [
       "   id  employee_id first_name   last_name        date  401k_amount  year month\n",
       "0   1  807-98-3943    Clareta       Calan  2016-02-23        87785  2016   Feb\n",
       "1   2  681-81-9934      Jocko    Rickwood  2017-06-06        89401  2017   Jun\n",
       "2   3  458-68-7451     Isador     Mueller  2018-08-10        37494  2018   Aug\n",
       "3   4  369-89-1954      Karee       Boddy  2019-01-19        97488  2019   Jan\n",
       "4   5  200-46-4502    Bobette  Sentinella  2016-06-26        70841  2016   Jun"
      ]
     },
     "execution_count": 8,
     "metadata": {},
     "output_type": "execute_result"
    }
   ],
   "source": [
    "df.head()"
   ]
  },
  {
   "cell_type": "code",
   "execution_count": 9,
   "metadata": {},
   "outputs": [
    {
     "data": {
      "image/png": "[encoded data removed]",
      "text/plain": [
       "<Figure size 864x288 with 1 Axes>"
      ]
     },
     "metadata": {
      "needs_background": "light"
     },
     "output_type": "display_data"
    }
   ],
   "source": [
    "fig, ax = plt.subplots()\n",
    "fig.set_size_inches((12,4))\n",
    "sns.boxplot(x='month',y='401k_amount',data=df,ax=ax)\n",
    "plt.show()"
   ]
  }
 ],
 "metadata": {
  "kernelspec": {
   "display_name": "Python 3",
   "language": "python",
   "name": "python3"
  },
  "language_info": {
   "codemirror_mode": {
    "name": "ipython",
    "version": 3
   },
   "file_extension": ".py",
   "mimetype": "text/x-python",
   "name": "python",
   "nbconvert_exporter": "python",
   "pygments_lexer": "ipython3",
   "version": "3.7.3"
  }
 },
 "nbformat": 4,
 "nbformat_minor": 2
}
